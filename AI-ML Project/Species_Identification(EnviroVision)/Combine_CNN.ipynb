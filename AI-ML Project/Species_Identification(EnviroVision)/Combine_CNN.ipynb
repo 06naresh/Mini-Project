{
 "cells": [
  {
   "cell_type": "code",
   "execution_count": 1,
   "id": "0d58bb76-e661-47ef-9ed4-21a190095f8c",
   "metadata": {},
   "outputs": [],
   "source": [
    "from tensorflow.keras.utils import load_img, img_to_array\n",
    "from tensorflow.keras.models import load_model\n",
    "from tensorflow.keras.applications.efficientnet_v2 import preprocess_input\n",
    "import numpy as np\n",
    "\n"
   ]
  },
  {
   "cell_type": "code",
   "execution_count": 2,
   "id": "53c9c6ac-74c6-4a90-905f-30a27ad69baa",
   "metadata": {},
   "outputs": [],
   "source": [
    "# Define class labels for the primary animal classification model\n",
    "class_labels_animal = {\n",
    "    0: 'Birds',\n",
    "    1: 'Butterflies',\n",
    "    2: 'Frog',\n",
    "    3: 'Snakes',\n",
    "    4: 'Odonata',\n",
    "    5: 'Moths',\n",
    "    6: 'Lizard'\n",
    "}\n",
    "\n",
    "# Define species-level classification configurations for each category\n",
    "species_config = {\n",
    "    'Birds': {\n",
    "        'model_path': 'D:/Model_Main/Xception_net_client_bird_cnn.h5',\n",
    "        'class_labels': {\n",
    "            0: 'Bulbul', 1: 'Cattle', 2: 'Gracula', 3: 'Hawk Owl', 4: 'Magpie Robin',\n",
    "            5: 'Moorhen', 6: 'Parrot', 7: 'Red Dove', 8: 'Serpent Eagle', 9: 'Teal',\n",
    "            10: 'Tyto Owl', 11: 'Water Hen', 12: 'Wood Pigeon'\n",
    "        },\n",
    "        'input_size': (480, 480)\n",
    "    },\n",
    "    'Moths': {\n",
    "        'model_path': 'D:/Model_Main/Xception_net_client_moths_cnn_tunned.h5',\n",
    "        'class_labels': {\n",
    "            0: 'Agrioglypta', 1: 'Antitrygodes', 2: 'Arthroschista', 3: 'Crameri',\n",
    "            4: 'Eudocima', 5: 'Glyphodes', 6: 'Greater Hawkmoth', 7: 'Lyssa zampa',\n",
    "            8: 'Nevrina', 9: 'Omiodes', 10: 'Pingasa', 11: 'Rutilalis', 12: 'Syllepte',\n",
    "            13: 'Tiger Moth', 14: 'Trigonodes', 15: 'Urapteroides'\n",
    "        },\n",
    "        'input_size': (480, 480)\n",
    "    },\n",
    "    'Odonata': {\n",
    "        'model_path': 'D:/Model_Main/Xception_net_client_odonata_cnn_tunned.h5',\n",
    "        'class_labels': {\n",
    "            0: 'Brown Marsh Hawk', 1: 'Common Picturewing', 2: 'Coral Cloudwing',\n",
    "            3: 'Fluctuans', 4: 'Fulvia Drury', 5: 'Green Marsh Hawk', 6: 'Lathrecista',\n",
    "            7: 'Libellago balus', 8: 'Macrodiplax cora', 9: 'Pantala', 10: 'Rambur',\n",
    "            11: 'Servilia Drury', 12: 'Verticalis', 13: 'Winged Forest Glory',\n",
    "            14: 'Yellow Flutterer'\n",
    "        },\n",
    "        'input_size': (480, 480)\n",
    "    },\n",
    "    'Snakes': {\n",
    "        'model_path': 'D:/Model_Main/Xception_net_client_snake_cnn_tunned2.h5',\n",
    "        'class_labels': {\n",
    "            0: 'Bronzeback', 1: 'Cat Snake', 2: 'Central Pit Viper', 3: 'Kukri',\n",
    "            4: 'Pit Viper', 5: 'Plumbea', 6: 'Red Tail', 7: 'Reticulated Python',\n",
    "            8: 'Tytleri'\n",
    "        },\n",
    "        'input_size': (480, 480)\n",
    "    },\n",
    "    'Butterflies': {\n",
    "        'model_path': 'D:/Model_Main/Xception_net_client_Butterflies_cnn.h5',\n",
    "        'class_labels': {\n",
    "            0: 'Bushybrow', 1: 'Cinnamon Crow', 2: 'Dark Tiger', 3: 'Great Mormon',\n",
    "            4: 'Grey Pansy', 5: 'Lacewing', 6: 'Lemon Pansy', 7: 'Mormon',\n",
    "            8: 'Painted Bell', 9: 'Peacock Pansy', 10: 'Sailer', 11: 'Sword Tail'\n",
    "        },\n",
    "        'input_size': (480, 480)\n",
    "    }\n",
    "}\n",
    "\n",
    "animal_model = load_model('D:/Model_Main/Xception_net_client_tunned.h5')"
   ]
  },
  {
   "cell_type": "code",
   "execution_count": 3,
   "id": "9dcd39a2-4ed7-410a-b60f-6e126aea8fab",
   "metadata": {},
   "outputs": [],
   "source": [
    "def predict_species(image_path, category):\n",
    "    config = species_config[category]\n",
    "    model = load_model(config['model_path'])\n",
    "    \n",
    "    # Preprocess the image\n",
    "    test_image = load_img(image_path, target_size=config['input_size'])\n",
    "    test_image = img_to_array(test_image)\n",
    "    test_image = np.expand_dims(test_image, axis=0)\n",
    "    test_image = preprocess_input(test_image)  # EfficientNetV2 preprocessing\n",
    "    \n",
    "    # Predict the species\n",
    "    result = model.predict(test_image)\n",
    "    predicted_species = np.argmax(result)\n",
    "    return config['class_labels'][predicted_species]\n"
   ]
  },
  {
   "cell_type": "code",
   "execution_count": 8,
   "id": "b75f5a61-f562-4cb4-a94c-f4397b9e7980",
   "metadata": {},
   "outputs": [],
   "source": [
    "image_path = 'D:/Less_data_test/g.jpg'  # Update with your image path"
   ]
  },
  {
   "cell_type": "code",
   "execution_count": 9,
   "id": "43305489-e5cc-47b0-9ab3-f943abd4a9c8",
   "metadata": {},
   "outputs": [
    {
     "name": "stdout",
     "output_type": "stream",
     "text": [
      "1/1 [==============================] - 0s 185ms/step\n",
      "1/1 [==============================] - 8s 8s/step\n",
      "Detected Butterflies: Grey Pansy\n"
     ]
    }
   ],
   "source": [
    "# Load and preprocess the image for the primary animal classification model\n",
    "test_image_animal = load_img(image_path, target_size=(299, 299))\n",
    "test_image_animal = img_to_array(test_image_animal)\n",
    "test_image_animal = np.expand_dims(test_image_animal, axis=0)\n",
    "test_image_animal = test_image_animal / 255.0  # Normalize the image\n",
    "\n",
    "# Predict the primary animal class\n",
    "animal_result = animal_model.predict(test_image_animal)\n",
    "predicted_animal = np.argmax(animal_result)\n",
    "primary_class = class_labels_animal[predicted_animal]\n",
    "\n",
    "# If the primary class is one of the categories with a secondary model, predict the species\n",
    "if primary_class in species_config:\n",
    "    species = predict_species(image_path, primary_class)\n",
    "    print(f\"Detected {primary_class}: {species}\")\n",
    "else:\n",
    "    print(f\"Animal detected: {primary_class}\")"
   ]
  },
  {
   "cell_type": "markdown",
   "id": "9fc9d058-efc9-480b-aba7-f1962deddebb",
   "metadata": {},
   "source": [
    "# "
   ]
  }
 ],
 "metadata": {
  "kernelspec": {
   "display_name": "Python 3 (ipykernel)",
   "language": "python",
   "name": "python3"
  },
  "language_info": {
   "codemirror_mode": {
    "name": "ipython",
    "version": 3
   },
   "file_extension": ".py",
   "mimetype": "text/x-python",
   "name": "python",
   "nbconvert_exporter": "python",
   "pygments_lexer": "ipython3",
   "version": "3.9.15"
  }
 },
 "nbformat": 4,
 "nbformat_minor": 5
}
